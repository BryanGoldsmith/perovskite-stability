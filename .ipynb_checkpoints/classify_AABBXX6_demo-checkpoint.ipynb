{
 "cells": [
  {
   "cell_type": "code",
   "execution_count": 1,
   "metadata": {
    "collapsed": true
   },
   "outputs": [],
   "source": [
    "import numpy as np\n",
    "import os\n",
    "import pandas as pd\n",
    "import math\n",
    "import re"
   ]
  },
  {
   "cell_type": "code",
   "execution_count": 2,
   "metadata": {
    "collapsed": false
   },
   "outputs": [
    {
     "name": "stdout",
     "output_type": "stream",
     "text": [
      "The input formula = PbTiO3\n",
      "The anion is determined to be O\n",
      "The cations are determined to be ['Pb', 'Ti']\n"
     ]
    }
   ],
   "source": [
    "### process an inputted formula to determine the anions and cations\n",
    "\n",
    "# information inputted by user for Cs2AgBiCl6\n",
    "A1 = 'Cs'\n",
    "A2 = A1\n",
    "B1 = 'Ag'\n",
    "B2 = 'Bi'\n",
    "X1 = 'Cl'\n",
    "X2 = X1\n",
    "\n",
    "As = [A1, A2]\n",
    "Bs = [B1, B2]\n",
    "Xs = [X1, X2]\n",
    "\n",
    "\n",
    "# collect all the elements\n",
    "els = re.findall('[A-Z][a-z]?', CCX3)\n",
    "\n",
    "# collect all the elements with their stoichiometric amounts if provided\n",
    "el_num_pairs = [[el_num_pair[idx] for idx in range(len(el_num_pair)) if el_num_pair[idx] != ''][0]\n",
    "                                  for el_num_pair in re.findall('([A-Z][a-z]\\d*)|([A-Z]\\d*)', CCX3)]\n",
    "\n",
    "# anion is element with 3 equivalents\n",
    "X = [el_num_pair.replace('3', '') for el_num_pair in el_num_pairs if '3' in el_num_pair][0]\n",
    "\n",
    "# cations are the other elements\n",
    "cations = [el for el in els if el != X]\n",
    "\n",
    "print('The input formula = %s' % CCX3)\n",
    "print('The anion is determined to be %s' % X)\n",
    "print('The cations are determined to be %s' % cations)"
   ]
  },
  {
   "cell_type": "code",
   "execution_count": 3,
   "metadata": {
    "collapsed": true
   },
   "outputs": [],
   "source": [
    "### define some common oxidation states\n",
    "\n",
    "# oxidation states if the element is the anion\n",
    "X_ox_dict = {'N' : -3,\n",
    "             'O' : -2,\n",
    "             'S' : -2,\n",
    "             'Se' : -2,\n",
    "             'F' : -1,\n",
    "             'Cl' : -1,\n",
    "             'Br' : -1,\n",
    "             'I' : -1}\n",
    "\n",
    "# common cation oxidation states\n",
    "plus_one = ['H', 'Li', 'Na', 'K', 'Rb', 'Cs', 'Fr', 'Ag']\n",
    "plus_two = ['Be', 'Mg', 'Ca', 'Sr', 'Ba', 'Ra']\n",
    "plus_three = ['Sc', 'Y', 'La', 'Al', 'Ga', 'In',\n",
    "              'Pr', 'Nd', 'Pm', 'Sm', 'Eu', 'Gd', 'Tb',\n",
    "              'Dy', 'Ho', 'Er', 'Tm', 'Yb', 'Lu']"
   ]
  },
  {
   "cell_type": "code",
   "execution_count": 4,
   "metadata": {
    "collapsed": false
   },
   "outputs": [
    {
     "name": "stdout",
     "output_type": "stream",
     "text": [
      "e.g., the ionic radius of Ti4+ at CN of 6 = 0.605 Angstrom\n"
     ]
    }
   ],
   "source": [
    "### make dictionary of Shannon ionic radii\n",
    "\n",
    "# starting with table available at v.web.umkc.edu/vanhornj/Radii.xls with Sn2+ added from 10.1039/c5sc04845a\n",
    "# and organic cations from 10.1039/C4SC02211D\n",
    "df = pd.read_csv('Shannon_Effective_Ionic_Radii.csv')\n",
    "\n",
    "df = df.rename(columns = {'OX. State': 'ox',\n",
    "                          'Coord. #': 'coord',\n",
    "                          'Crystal Radius': 'rcryst',\n",
    "                          'Ionic Radius': 'rion',\n",
    "                          'Spin State' : 'spin'})\n",
    "    \n",
    "df['spin'] = [spin if spin in ['HS', 'LS'] else 'only_spin' for spin in df.spin.values]\n",
    "\n",
    "def get_el(row):\n",
    "    ION = row['ION']\n",
    "    if ' ' in ION:\n",
    "        return ION.split(' ')[0]\n",
    "    elif '+' in ION:\n",
    "        return ION.split('+')[0]\n",
    "    elif '-' in ION:\n",
    "        return ION.split('-')[0]\n",
    "\n",
    "df['el'] = df.apply(lambda row: get_el(row), axis = 1)\n",
    "\n",
    "# get allowed oxidation states for each ion\n",
    "el_to_ox = {}\n",
    "for el in df.el.values:\n",
    "    el_to_ox[el] = list(set(df.ox.get((df['el'] == el)).tolist()))\n",
    "\n",
    "# get ionic radii as function of oxidation state -> coordination number -> spin state\n",
    "ionic_radii_dict = {}\n",
    "for el in el_to_ox:\n",
    "    # list of Shannon oxidation states for each element\n",
    "    oxs = el_to_ox[el]\n",
    "    ox_to_coord = {}\n",
    "    for ox in oxs:\n",
    "        # list of coordination numbers for each (element, oxidation state)\n",
    "        coords = df.coord.get((df['el'] == el) & (df['ox'] == ox)).tolist()\n",
    "        ox_to_coord[ox] = coords\n",
    "        coord_to_spin = {}\n",
    "        for coord in ox_to_coord[ox]:\n",
    "            # list of spin states for each (element, oxidation state, coordination number)\n",
    "            spin = df.spin.get((df['el'] == el) & (df['ox'] == ox) & (df['coord'] == coord)).tolist()\n",
    "            coord_to_spin[coord] = spin\n",
    "            spin_to_rad = {}\n",
    "            for spin in coord_to_spin[coord]:\n",
    "                # list of radiis for each (element, oxidation state, coordination number)\n",
    "                rad = df.rion.get((df['el'] == el) & (df['ox'] == ox) & (df['coord'] == coord) & (df['spin'] == spin)).tolist()[0]\n",
    "                spin_to_rad[spin] = rad  \n",
    "                coord_to_spin[coord] = spin_to_rad\n",
    "                ox_to_coord[ox] = coord_to_spin\n",
    "    ionic_radii_dict[el] = ox_to_coord\n",
    "\n",
    "# assign spin state for transition metals (assumes that if an ion can be high-spin, it will be)\n",
    "spin_els = ['Cr', 'Mn', 'Fe', 'Co', 'Ni', 'Cu']\n",
    "starting_d = [4, 5, 6, 7, 8, 9]\n",
    "d_dict = dict(zip(spin_els, starting_d))\n",
    "for el in spin_els:\n",
    "    for ox in ionic_radii_dict[el].keys():\n",
    "        for coord in ionic_radii_dict[el][ox].keys():\n",
    "            if len(ionic_radii_dict[el][ox][coord].keys()) > 1:\n",
    "                num_d = d_dict[el] + 2 - ox\n",
    "                if num_d in [4, 5, 6, 7]:\n",
    "                    ionic_radii_dict[el][ox][coord]['only_spin'] = ionic_radii_dict[el][ox][coord]['HS']\n",
    "                else:\n",
    "                    ionic_radii_dict[el][ox][coord]['only_spin'] = ionic_radii_dict[el][ox][coord]['LS']\n",
    "            elif 'HS' in ionic_radii_dict[el][ox][coord].keys():\n",
    "                ionic_radii_dict[el][ox][coord]['only_spin'] = ionic_radii_dict[el][ox][coord]['HS']\n",
    "            elif 'LS' in ionic_radii_dict[el][ox][coord].keys():\n",
    "                ionic_radii_dict[el][ox][coord]['only_spin'] = ionic_radii_dict[el][ox][coord]['LS']\n",
    "\n",
    "print('e.g., the ionic radius of Ti4+ at CN of 6 = %.3f Angstrom' % ionic_radii_dict['Ti'][4][6]['only_spin'])\n"
   ]
  },
  {
   "cell_type": "code",
   "execution_count": 5,
   "metadata": {
    "collapsed": false
   },
   "outputs": [
    {
     "name": "stdout",
     "output_type": "stream",
     "text": [
      "The allowed oxidation state(s) of Pb = [2, 4]\n",
      "The allowed oxidation state(s) of Ti = [2, 3, 4]\n",
      "The allowed oxidation state(s) of O = [-2]\n"
     ]
    }
   ],
   "source": [
    "### determine the allowed oxidation states for each element in the compound\n",
    "\n",
    "allowed_ox_dict = {}\n",
    "for cation in cations:\n",
    "    # if cation is commonly 1+, make that the only allowed oxidation state\n",
    "    if cation in plus_one:\n",
    "        allowed_ox_dict[cation] = [1]\n",
    "    # if cation is commonly 2+, make that the only allowed oxidation state\n",
    "    elif cation in plus_two:\n",
    "        allowed_ox_dict[cation] = [2]\n",
    "    else:\n",
    "        # otherwise, use the oxidation states that have corresponding Shannon radii\n",
    "        allowed_ox_dict[cation] = [val for val in list(ionic_radii_dict[cation].keys()) if val > 0]\n",
    "# assign the oxidation state of X based on the allowed anion oxidation states\n",
    "allowed_ox_dict[X] = [X_ox_dict[X]]\n",
    "\n",
    "for el in els:\n",
    "    print('The allowed oxidation state(s) of %s = %s' % (el, allowed_ox_dict[el]))"
   ]
  },
  {
   "cell_type": "code",
   "execution_count": 6,
   "metadata": {
    "collapsed": false
   },
   "outputs": [
    {
     "name": "stdout",
     "output_type": "stream",
     "text": [
      "The charge balanced combinations are [(2, 4), (4, 2)]\n"
     ]
    }
   ],
   "source": [
    "### find all charge-balanced cation oxidation state combinations\n",
    "ox1s = allowed_ox_dict[cations[0]]\n",
    "ox2s = allowed_ox_dict[cations[1]]\n",
    "oxX = allowed_ox_dict[X][0]\n",
    "bal_combos = []\n",
    "for ox1 in ox1s:\n",
    "    for ox2 in ox2s:\n",
    "        if ox1 + ox2 == -3*oxX:\n",
    "            bal_combos.append((ox1, ox2))\n",
    "print('The charge balanced combinations are %s' % bal_combos)"
   ]
  },
  {
   "cell_type": "code",
   "execution_count": 7,
   "metadata": {
    "collapsed": false
   },
   "outputs": [
    {
     "name": "stdout",
     "output_type": "stream",
     "text": [
      "The electronegativities of Pb = 2.33 and Ti = 1.54\n",
      "The assigned oxidation states are therefore Pb = 2.00 and Ti = 4.00\n"
     ]
    }
   ],
   "source": [
    "### choose the most likely charge-balanced combination\n",
    "combos = bal_combos\n",
    "\n",
    "# generate a dictionary of {cation : electronegativity} for help with assignment\n",
    "chi_dict = {}\n",
    "with open('electronegativities.csv') as f:\n",
    "    for line in f:\n",
    "        line = line.split(',')\n",
    "        if line[0] in cations:\n",
    "            chi_dict[line[0]] = float(line[1][:-1])\n",
    "\n",
    "# if only one charge-balanced combination exists, use it\n",
    "if len(combos) == 1:\n",
    "    ox_states = dict(zip(cations, combos[0]))\n",
    "# if two combos exists and they are the reverse of one another\n",
    "elif (len(combos) == 2) and (combos[0] == combos[1][::-1]):\n",
    "    # assign the minimum oxidation state to the more electronegative cation\n",
    "    min_ox = np.min(combos[0])\n",
    "    max_ox = np.max(combos[1])\n",
    "    epos_el = [el for el in cations if chi_dict[el] == np.min(list(chi_dict.values()))][0]\n",
    "    eneg_el = [el for el in cations if el != epos_el][0]\n",
    "    ox_states = {epos_el : max_ox,\n",
    "                 eneg_el : min_ox}\n",
    "else:\n",
    "    # if one of the cations is probably 3+, let it be 3+\n",
    "    if (cations[0] in plus_three) or (cations[1] in plus_three):\n",
    "        if X == 'O':\n",
    "            if (3,3) in combos:\n",
    "                combo = (3,3)\n",
    "                ox_states = dict(zip(ox_states, list(combo)))\n",
    "    # else compare electronegativities - if 0.9 < chi1/chi2 < 1.1, minimize the oxidation state diff\n",
    "    elif np.min(list(chi_dict.values())) > 0.9 * np.max(list(chi_dict.values())):\n",
    "        diffs = [abs(combo[0] - combo[1]) for combo in combos]\n",
    "        mindex = [idx for idx in range(len(diffs)) if diffs[idx] == np.min(diffs)]\n",
    "        if len(mindex) == 1:\n",
    "            mindex = mindex[0]\n",
    "            combo = combos[mindex]\n",
    "            ox_states = dict(zip(cations, combo))\n",
    "        else:\n",
    "            min_ox = np.min([combos[idx] for idx in mindex])\n",
    "            max_ox = np.max([combos[idx] for idx in mindex])\n",
    "            epos_el = [el for el in cations if chi_dict[el] == np.min(list(chi_dict.values()))][0]\n",
    "            eneg_el = [el for el in cations if el != epos_el][0]\n",
    "            ox_states = {epos_el : max_ox,\n",
    "                         eneg_el : min_ox} \n",
    "    else:\n",
    "        diffs = [abs(combo[0] - combo[1]) for combo in combos]\n",
    "        maxdex = [idx for idx in range(len(diffs)) if diffs[idx] == np.max(diffs)]\n",
    "        if len(maxdex) == 1:\n",
    "            maxdex = maxdex[0]\n",
    "            combo = combos[maxdex]\n",
    "        else:\n",
    "            min_ox = np.min([combos[idx] for idx in maxdex])\n",
    "            max_ox = np.max([combos[idx] for idx in maxdex])\n",
    "            epos_el = [el for el in cations if chi_dict[el] == np.min(list(chi_dict.values()))][0]\n",
    "            eneg_el = [el for el in cations if el != epos_el][0]\n",
    "            ox_states = {epos_el : max_ox,\n",
    "                        eneg_el : min_ox}     \n",
    "print('The electronegativities of %s = %.2f and %s = %.2f' \n",
    "      % (cations[0], chi_dict[cations[0]], cations[1], chi_dict[cations[1]]))\n",
    "print('The assigned oxidation states are therefore %s = %.2f and %s = %.2f' \n",
    "      % (cations[0], ox_states[cations[0]], cations[1], ox_states[cations[1]]))"
   ]
  },
  {
   "cell_type": "code",
   "execution_count": 8,
   "metadata": {
    "collapsed": false
   },
   "outputs": [
    {
     "name": "stdout",
     "output_type": "stream",
     "text": [
      "The radius of Pb on the A site would be 1.49 Angstrom\n",
      "The radius of Pb on the B site would be 1.19 Angstrom\n",
      "The radius of Ti on the A site would be 0.74 Angstrom\n",
      "The radius of Ti on the B site would be 0.60 Angstrom\n"
     ]
    }
   ],
   "source": [
    "### we know the oxidation states, but not which cation is A or B (yet)\n",
    "### produce a dictionary of each cation as A or B\n",
    "radii_dict = {}\n",
    "for el in cations:\n",
    "    tmp_dict = {}\n",
    "    # get the oxidation state\n",
    "    ox = ox_states[el]\n",
    "    # get the coordination numbers for that cation by Shannon\n",
    "    coords = list(ionic_radii_dict[el][ox].keys())\n",
    "    # get the B CN as the one available nearest 6\n",
    "    B_coords = [abs(coord - 6) for coord in coords]\n",
    "    mindex = [idx for idx in range(len(B_coords)) if B_coords[idx] == np.min(B_coords)][0]\n",
    "    B_coord = coords[mindex]\n",
    "    # get the A CN as the one available nearest 12\n",
    "    A_coords = [abs(coord - 12) for coord in coords]\n",
    "    mindex = [idx for idx in range(len(A_coords)) if A_coords[idx] == np.min(A_coords)][0]\n",
    "    A_coord = coords[mindex]\n",
    "    # produce the equivalent B-site and A-site radii\n",
    "    B_rad = ionic_radii_dict[el][ox][B_coord]['only_spin']\n",
    "    A_rad = ionic_radii_dict[el][ox][A_coord]['only_spin']\n",
    "    tmp_dict['A_rad'] = A_rad\n",
    "    tmp_dict['B_rad'] = B_rad\n",
    "    radii_dict[el] = tmp_dict\n",
    "\n",
    "for el in cations:\n",
    "    print('The radius of %s on the A site would be %.2f Angstrom' % (el, radii_dict[el]['A_rad']))\n",
    "    print('The radius of %s on the B site would be %.2f Angstrom' % (el, radii_dict[el]['B_rad']))"
   ]
  },
  {
   "cell_type": "code",
   "execution_count": 9,
   "metadata": {
    "collapsed": false
   },
   "outputs": [
    {
     "name": "stdout",
     "output_type": "stream",
     "text": [
      "Pb is predicted to be A site with oxidation state = 2 and radius = 1.49\n",
      "Ti is predicted to be B site with oxidation state = 4 and radius = 0.60\n"
     ]
    }
   ],
   "source": [
    "### determine A and B, where A is the larger cation\n",
    "\n",
    "\n",
    "el1 = list(radii_dict.keys())[0]\n",
    "el2 = list(radii_dict.keys())[1]\n",
    "\n",
    "if (radii_dict[el1]['A_rad'] > radii_dict[el2]['B_rad']) and (radii_dict[el1]['B_rad'] > radii_dict[el2]['A_rad']):\n",
    "    pred_A = el1\n",
    "elif (radii_dict[el1]['A_rad'] < radii_dict[el2]['B_rad']) and (radii_dict[el1]['B_rad'] < radii_dict[el2]['A_rad']):\n",
    "    pred_A = el2\n",
    "elif (radii_dict[el1]['A_rad'] > radii_dict[el2]['A_rad']) and (radii_dict[el1]['B_rad'] > radii_dict[el2]['B_rad']):\n",
    "    pred_A = el1\n",
    "elif (radii_dict[el1]['A_rad'] < radii_dict[el2]['A_rad']) and (radii_dict[el1]['B_rad'] < radii_dict[el2]['B_rad']):\n",
    "    pred_A = el2\n",
    "elif (radii_dict[el1]['B_rad'] > radii_dict[el2]['B_rad']):\n",
    "    pred_A = el1\n",
    "elif (radii_dict[el1]['B_rad'] < radii_dict[el2]['B_rad']):\n",
    "    pred_A = el2\n",
    "elif (radii_dict[el1]['A_rad'] > radii_dict[el2]['A_rad']):\n",
    "    pred_A = el1\n",
    "elif (radii_dict[el1]['A_rad'] < radii_dict[el2]['A_rad']):\n",
    "    pred_A = el2  \n",
    "else:\n",
    "    # if the A and B radii are the same for both elements, choose the more oxidized element\n",
    "    if ox_dict[el1] < ox_dict[el2]:\n",
    "        pred_A = el1\n",
    "    else:\n",
    "        # if the elements have the same radii and oxidation state, choose at random\n",
    "        pred_A = el2\n",
    "        \n",
    "pred_B = [el for el in cations if el != pred_A][0]\n",
    "\n",
    "print('%s is predicted to be A site with oxidation state = %i and radius = %.2f' \n",
    "       % (pred_A, ox_states[pred_A], radii_dict[pred_A]['A_rad']))\n",
    "print('%s is predicted to be B site with oxidation state = %i and radius = %.2f' \n",
    "       % (pred_B, ox_states[pred_B], radii_dict[pred_B]['B_rad']))"
   ]
  },
  {
   "cell_type": "code",
   "execution_count": 10,
   "metadata": {
    "collapsed": false
   },
   "outputs": [
    {
     "name": "stdout",
     "output_type": "stream",
     "text": [
      "tau = 3.78 which is < 4.18, so PbTiO3 is predicted perovskite\n"
     ]
    }
   ],
   "source": [
    "### make classification using tau\n",
    "\n",
    "nA = ox_states[pred_A]\n",
    "rA = radii_dict[pred_A]['A_rad']\n",
    "rB = radii_dict[pred_B]['B_rad']\n",
    "rX = ionic_radii_dict[X][X_ox_dict[X]][6]['only_spin']\n",
    "\n",
    "tau = rX/rB - nA * (nA - (rA/rB)/np.log(rA/rB))\n",
    "\n",
    "print('tau = %.2f which is %s 4.18, so %s is predicted %s' \n",
    "      % (tau, '<' if tau < 4.18 else '>', CCX3, 'perovskite' if tau < 4.18 else 'nonperovskite'))"
   ]
  }
 ],
 "metadata": {
  "kernelspec": {
   "display_name": "Python 3",
   "language": "python",
   "name": "python3"
  },
  "language_info": {
   "codemirror_mode": {
    "name": "ipython",
    "version": 3
   },
   "file_extension": ".py",
   "mimetype": "text/x-python",
   "name": "python",
   "nbconvert_exporter": "python",
   "pygments_lexer": "ipython3",
   "version": "3.6.0"
  }
 },
 "nbformat": 4,
 "nbformat_minor": 2
}
